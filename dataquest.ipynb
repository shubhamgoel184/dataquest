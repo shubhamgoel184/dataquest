{
 "cells": [
  {
   "cell_type": "code",
   "execution_count": 1,
   "metadata": {
    "collapsed": true
   },
   "outputs": [],
   "source": [
    "import numpy as np\n",
    "import pandas as pd\n",
    "import matplotlib.pyplot as plt\n",
    "%matplotlib inline"
   ]
  },
  {
   "cell_type": "markdown",
   "metadata": {},
   "source": [
    "### Loading the data"
   ]
  },
  {
   "cell_type": "code",
   "execution_count": 2,
   "metadata": {
    "collapsed": false
   },
   "outputs": [
    {
     "data": {
      "text/html": [
       "<div>\n",
       "<table border=\"1\" class=\"dataframe\">\n",
       "  <thead>\n",
       "    <tr style=\"text-align: right;\">\n",
       "      <th></th>\n",
       "      <th>victim_id</th>\n",
       "      <th>incident_time</th>\n",
       "      <th>incident_date</th>\n",
       "      <th>incident_location</th>\n",
       "      <th>incident_tehsil</th>\n",
       "      <th>cause_of_emergency</th>\n",
       "      <th>base_to_scene_distance</th>\n",
       "      <th>scene_to_hospital_distance</th>\n",
       "      <th>roadway_feature</th>\n",
       "      <th>road_type</th>\n",
       "      <th>surrounding_area</th>\n",
       "      <th>criticality</th>\n",
       "    </tr>\n",
       "  </thead>\n",
       "  <tbody>\n",
       "    <tr>\n",
       "      <th>11772</th>\n",
       "      <td>VIC20120001118366</td>\n",
       "      <td>23:15:02</td>\n",
       "      <td>13-06-2012</td>\n",
       "      <td>Sanjay Colony--Patel Nagar</td>\n",
       "      <td>Raipur</td>\n",
       "      <td>Multiple Vehicular Incident</td>\n",
       "      <td>4</td>\n",
       "      <td>3</td>\n",
       "      <td>CUR</td>\n",
       "      <td>HIW</td>\n",
       "      <td>HIL</td>\n",
       "      <td>0</td>\n",
       "    </tr>\n",
       "    <tr>\n",
       "      <th>11773</th>\n",
       "      <td>VIC20110000320257</td>\n",
       "      <td>00:15:02</td>\n",
       "      <td>03-03-2011</td>\n",
       "      <td>Shartradhar Crosing</td>\n",
       "      <td>Raipur</td>\n",
       "      <td>2 Wheeler accidents</td>\n",
       "      <td>1</td>\n",
       "      <td>2</td>\n",
       "      <td>CUR</td>\n",
       "      <td>HIW</td>\n",
       "      <td>AGL</td>\n",
       "      <td>0</td>\n",
       "    </tr>\n",
       "    <tr>\n",
       "      <th>11774</th>\n",
       "      <td>VIC20090001341524</td>\n",
       "      <td>20:52:35</td>\n",
       "      <td>18-07-2009</td>\n",
       "      <td>Ramsawala</td>\n",
       "      <td>Sahaspur</td>\n",
       "      <td>2 Wheeler accidents</td>\n",
       "      <td>25</td>\n",
       "      <td>22</td>\n",
       "      <td>INT</td>\n",
       "      <td>HIW</td>\n",
       "      <td>HOSP</td>\n",
       "      <td>0</td>\n",
       "    </tr>\n",
       "    <tr>\n",
       "      <th>11775</th>\n",
       "      <td>VIC20140000744614</td>\n",
       "      <td>06:51:15</td>\n",
       "      <td>23-06-2014</td>\n",
       "      <td>Majri Grant</td>\n",
       "      <td>Doiwala</td>\n",
       "      <td>Multiple Vehicular Incident</td>\n",
       "      <td>8</td>\n",
       "      <td>8</td>\n",
       "      <td>UNK</td>\n",
       "      <td>LOC</td>\n",
       "      <td>AGL</td>\n",
       "      <td>1</td>\n",
       "    </tr>\n",
       "    <tr>\n",
       "      <th>11776</th>\n",
       "      <td>VIC20100000952321</td>\n",
       "      <td>16:51:39</td>\n",
       "      <td>09-05-2010</td>\n",
       "      <td>Shimla Chowk</td>\n",
       "      <td>Raipur</td>\n",
       "      <td>Vehicle role over/Skid</td>\n",
       "      <td>8</td>\n",
       "      <td>3</td>\n",
       "      <td>INT</td>\n",
       "      <td>HIW</td>\n",
       "      <td>MAR</td>\n",
       "      <td>0</td>\n",
       "    </tr>\n",
       "  </tbody>\n",
       "</table>\n",
       "</div>"
      ],
      "text/plain": [
       "               victim_id incident_time incident_date  \\\n",
       "11772  VIC20120001118366      23:15:02    13-06-2012   \n",
       "11773  VIC20110000320257      00:15:02    03-03-2011   \n",
       "11774  VIC20090001341524      20:52:35    18-07-2009   \n",
       "11775  VIC20140000744614      06:51:15    23-06-2014   \n",
       "11776  VIC20100000952321      16:51:39    09-05-2010   \n",
       "\n",
       "                incident_location incident_tehsil  \\\n",
       "11772  Sanjay Colony--Patel Nagar          Raipur   \n",
       "11773         Shartradhar Crosing          Raipur   \n",
       "11774                   Ramsawala        Sahaspur   \n",
       "11775                 Majri Grant         Doiwala   \n",
       "11776                Shimla Chowk          Raipur   \n",
       "\n",
       "                cause_of_emergency  base_to_scene_distance  \\\n",
       "11772  Multiple Vehicular Incident                       4   \n",
       "11773          2 Wheeler accidents                       1   \n",
       "11774          2 Wheeler accidents                      25   \n",
       "11775  Multiple Vehicular Incident                       8   \n",
       "11776       Vehicle role over/Skid                       8   \n",
       "\n",
       "       scene_to_hospital_distance roadway_feature road_type surrounding_area  \\\n",
       "11772                           3             CUR       HIW              HIL   \n",
       "11773                           2             CUR       HIW              AGL   \n",
       "11774                          22             INT       HIW             HOSP   \n",
       "11775                           8             UNK       LOC              AGL   \n",
       "11776                           3             INT       HIW              MAR   \n",
       "\n",
       "       criticality  \n",
       "11772            0  \n",
       "11773            0  \n",
       "11774            0  \n",
       "11775            1  \n",
       "11776            0  "
      ]
     },
     "execution_count": 2,
     "metadata": {},
     "output_type": "execute_result"
    }
   ],
   "source": [
    "train_data=pd.read_csv('H:\\\\analytics_vidhya\\\\data_quest\\\\train_data.csv')\n",
    "test_data=pd.read_csv('H:\\\\analytics_vidhya\\\\data_quest\\\\test_TQDFDgg.csv')\n",
    "train_data.tail()"
   ]
  },
  {
   "cell_type": "code",
   "execution_count": 3,
   "metadata": {
    "collapsed": false
   },
   "outputs": [
    {
     "name": "stdout",
     "output_type": "stream",
     "text": [
      "shape of train data:(11777, 12)\n",
      "shape of test data:(5048, 11)\n"
     ]
    }
   ],
   "source": [
    "print(\"shape of train data:\"+str(train_data.shape))\n",
    "print(\"shape of test data:\"+str(test_data.shape))"
   ]
  },
  {
   "cell_type": "code",
   "execution_count": 4,
   "metadata": {
    "collapsed": false
   },
   "outputs": [
    {
     "data": {
      "text/plain": [
       "victim_id                       0\n",
       "incident_time                   0\n",
       "incident_date                   0\n",
       "incident_location             307\n",
       "incident_tehsil                 0\n",
       "cause_of_emergency              0\n",
       "base_to_scene_distance          0\n",
       "scene_to_hospital_distance      0\n",
       "roadway_feature                 0\n",
       "road_type                       0\n",
       "surrounding_area                0\n",
       "criticality                     0\n",
       "dtype: int64"
      ]
     },
     "execution_count": 4,
     "metadata": {},
     "output_type": "execute_result"
    }
   ],
   "source": [
    "train_data.isnull().sum()"
   ]
  },
  {
   "cell_type": "code",
   "execution_count": 5,
   "metadata": {
    "collapsed": false
   },
   "outputs": [
    {
     "data": {
      "text/plain": [
       "victim_id                     object\n",
       "incident_time                 object\n",
       "incident_date                 object\n",
       "incident_location             object\n",
       "incident_tehsil               object\n",
       "cause_of_emergency            object\n",
       "base_to_scene_distance         int64\n",
       "scene_to_hospital_distance     int64\n",
       "roadway_feature               object\n",
       "road_type                     object\n",
       "surrounding_area              object\n",
       "criticality                    int64\n",
       "dtype: object"
      ]
     },
     "execution_count": 5,
     "metadata": {},
     "output_type": "execute_result"
    }
   ],
   "source": [
    "train_data.dtypes"
   ]
  },
  {
   "cell_type": "code",
   "execution_count": 6,
   "metadata": {
    "collapsed": true
   },
   "outputs": [],
   "source": [
    "categorical_variables=train_data.dtypes[train_data.dtypes=='object'].index.values"
   ]
  },
  {
   "cell_type": "code",
   "execution_count": 7,
   "metadata": {
    "collapsed": false
   },
   "outputs": [
    {
     "data": {
      "text/plain": [
       "victim_id             11777\n",
       "incident_time         10752\n",
       "incident_date          2107\n",
       "incident_location      5522\n",
       "incident_tehsil           7\n",
       "cause_of_emergency       14\n",
       "roadway_feature           5\n",
       "road_type                 2\n",
       "surrounding_area          6\n",
       "dtype: int64"
      ]
     },
     "execution_count": 7,
     "metadata": {},
     "output_type": "execute_result"
    }
   ],
   "source": [
    "train_data[categorical_variables].apply(lambda x: len(x.unique()))"
   ]
  },
  {
   "cell_type": "code",
   "execution_count": 8,
   "metadata": {
    "collapsed": false
   },
   "outputs": [
    {
     "data": {
      "text/plain": [
       "victim_id             5048\n",
       "incident_time         4855\n",
       "incident_date         1916\n",
       "incident_location     2760\n",
       "incident_tehsil          7\n",
       "cause_of_emergency      14\n",
       "roadway_feature          5\n",
       "road_type                2\n",
       "surrounding_area         6\n",
       "dtype: int64"
      ]
     },
     "execution_count": 8,
     "metadata": {},
     "output_type": "execute_result"
    }
   ],
   "source": [
    "test_data[categorical_variables].apply(lambda x: len(x.unique()))"
   ]
  },
  {
   "cell_type": "code",
   "execution_count": 9,
   "metadata": {
    "collapsed": false
   },
   "outputs": [
    {
     "data": {
      "text/plain": [
       "0.04432368175256857"
      ]
     },
     "execution_count": 9,
     "metadata": {},
     "output_type": "execute_result"
    }
   ],
   "source": [
    "#mean criticality of train_data\n",
    "train_data['criticality'].mean()"
   ]
  },
  {
   "cell_type": "code",
   "execution_count": 10,
   "metadata": {
    "collapsed": false
   },
   "outputs": [
    {
     "data": {
      "text/plain": [
       "victim_id                     522\n",
       "incident_time                 521\n",
       "incident_date                 427\n",
       "incident_location             410\n",
       "incident_tehsil                 7\n",
       "cause_of_emergency             11\n",
       "base_to_scene_distance         42\n",
       "scene_to_hospital_distance     62\n",
       "roadway_feature                 5\n",
       "road_type                       2\n",
       "surrounding_area                6\n",
       "criticality                     1\n",
       "dtype: int64"
      ]
     },
     "execution_count": 10,
     "metadata": {},
     "output_type": "execute_result"
    }
   ],
   "source": [
    "train_data[train_data['criticality']==1].apply(lambda x: len(x.unique()))"
   ]
  },
  {
   "cell_type": "code",
   "execution_count": 11,
   "metadata": {
    "collapsed": true
   },
   "outputs": [],
   "source": [
    "d=train_data['incident_date']+' '+train_data['incident_time']\n",
    "d1=test_data['incident_date']+' '+test_data['incident_time']\n",
    "d=pd.to_datetime(d)\n",
    "d1=pd.to_datetime(d1)"
   ]
  },
  {
   "cell_type": "code",
   "execution_count": 12,
   "metadata": {
    "collapsed": true
   },
   "outputs": [],
   "source": [
    "del train_data['incident_date']\n",
    "del train_data['incident_time']\n",
    "del test_data['incident_date']\n",
    "del test_data['incident_time']\n",
    "train_data['datetime']=d\n",
    "test_data['datetime']=d1"
   ]
  },
  {
   "cell_type": "code",
   "execution_count": 13,
   "metadata": {
    "collapsed": false,
    "scrolled": true
   },
   "outputs": [
    {
     "data": {
      "text/html": [
       "<div>\n",
       "<table border=\"1\" class=\"dataframe\">\n",
       "  <thead>\n",
       "    <tr style=\"text-align: right;\">\n",
       "      <th></th>\n",
       "      <th>victim_id</th>\n",
       "      <th>incident_location</th>\n",
       "      <th>incident_tehsil</th>\n",
       "      <th>cause_of_emergency</th>\n",
       "      <th>base_to_scene_distance</th>\n",
       "      <th>scene_to_hospital_distance</th>\n",
       "      <th>roadway_feature</th>\n",
       "      <th>road_type</th>\n",
       "      <th>surrounding_area</th>\n",
       "      <th>criticality</th>\n",
       "      <th>datetime</th>\n",
       "    </tr>\n",
       "  </thead>\n",
       "  <tbody>\n",
       "    <tr>\n",
       "      <th>11772</th>\n",
       "      <td>VIC20120001118366</td>\n",
       "      <td>Sanjay Colony--Patel Nagar</td>\n",
       "      <td>Raipur</td>\n",
       "      <td>Multiple Vehicular Incident</td>\n",
       "      <td>4</td>\n",
       "      <td>3</td>\n",
       "      <td>CUR</td>\n",
       "      <td>HIW</td>\n",
       "      <td>HIL</td>\n",
       "      <td>0</td>\n",
       "      <td>2012-06-13 23:15:02</td>\n",
       "    </tr>\n",
       "    <tr>\n",
       "      <th>11773</th>\n",
       "      <td>VIC20110000320257</td>\n",
       "      <td>Shartradhar Crosing</td>\n",
       "      <td>Raipur</td>\n",
       "      <td>2 Wheeler accidents</td>\n",
       "      <td>1</td>\n",
       "      <td>2</td>\n",
       "      <td>CUR</td>\n",
       "      <td>HIW</td>\n",
       "      <td>AGL</td>\n",
       "      <td>0</td>\n",
       "      <td>2011-03-03 00:15:02</td>\n",
       "    </tr>\n",
       "    <tr>\n",
       "      <th>11774</th>\n",
       "      <td>VIC20090001341524</td>\n",
       "      <td>Ramsawala</td>\n",
       "      <td>Sahaspur</td>\n",
       "      <td>2 Wheeler accidents</td>\n",
       "      <td>25</td>\n",
       "      <td>22</td>\n",
       "      <td>INT</td>\n",
       "      <td>HIW</td>\n",
       "      <td>HOSP</td>\n",
       "      <td>0</td>\n",
       "      <td>2009-07-18 20:52:35</td>\n",
       "    </tr>\n",
       "    <tr>\n",
       "      <th>11775</th>\n",
       "      <td>VIC20140000744614</td>\n",
       "      <td>Majri Grant</td>\n",
       "      <td>Doiwala</td>\n",
       "      <td>Multiple Vehicular Incident</td>\n",
       "      <td>8</td>\n",
       "      <td>8</td>\n",
       "      <td>UNK</td>\n",
       "      <td>LOC</td>\n",
       "      <td>AGL</td>\n",
       "      <td>1</td>\n",
       "      <td>2014-06-23 06:51:15</td>\n",
       "    </tr>\n",
       "    <tr>\n",
       "      <th>11776</th>\n",
       "      <td>VIC20100000952321</td>\n",
       "      <td>Shimla Chowk</td>\n",
       "      <td>Raipur</td>\n",
       "      <td>Vehicle role over/Skid</td>\n",
       "      <td>8</td>\n",
       "      <td>3</td>\n",
       "      <td>INT</td>\n",
       "      <td>HIW</td>\n",
       "      <td>MAR</td>\n",
       "      <td>0</td>\n",
       "      <td>2010-09-05 16:51:39</td>\n",
       "    </tr>\n",
       "  </tbody>\n",
       "</table>\n",
       "</div>"
      ],
      "text/plain": [
       "               victim_id           incident_location incident_tehsil  \\\n",
       "11772  VIC20120001118366  Sanjay Colony--Patel Nagar          Raipur   \n",
       "11773  VIC20110000320257         Shartradhar Crosing          Raipur   \n",
       "11774  VIC20090001341524                   Ramsawala        Sahaspur   \n",
       "11775  VIC20140000744614                 Majri Grant         Doiwala   \n",
       "11776  VIC20100000952321                Shimla Chowk          Raipur   \n",
       "\n",
       "                cause_of_emergency  base_to_scene_distance  \\\n",
       "11772  Multiple Vehicular Incident                       4   \n",
       "11773          2 Wheeler accidents                       1   \n",
       "11774          2 Wheeler accidents                      25   \n",
       "11775  Multiple Vehicular Incident                       8   \n",
       "11776       Vehicle role over/Skid                       8   \n",
       "\n",
       "       scene_to_hospital_distance roadway_feature road_type surrounding_area  \\\n",
       "11772                           3             CUR       HIW              HIL   \n",
       "11773                           2             CUR       HIW              AGL   \n",
       "11774                          22             INT       HIW             HOSP   \n",
       "11775                           8             UNK       LOC              AGL   \n",
       "11776                           3             INT       HIW              MAR   \n",
       "\n",
       "       criticality            datetime  \n",
       "11772            0 2012-06-13 23:15:02  \n",
       "11773            0 2011-03-03 00:15:02  \n",
       "11774            0 2009-07-18 20:52:35  \n",
       "11775            1 2014-06-23 06:51:15  \n",
       "11776            0 2010-09-05 16:51:39  "
      ]
     },
     "execution_count": 13,
     "metadata": {},
     "output_type": "execute_result"
    }
   ],
   "source": [
    "train_data.tail()"
   ]
  },
  {
   "cell_type": "code",
   "execution_count": 14,
   "metadata": {
    "collapsed": true
   },
   "outputs": [],
   "source": [
    "train_data['hour_of_accident']=train_data['datetime'].dt.hour\n",
    "test_data['hour_of_accident']=test_data['datetime'].dt.hour"
   ]
  },
  {
   "cell_type": "code",
   "execution_count": 15,
   "metadata": {
    "collapsed": true
   },
   "outputs": [],
   "source": [
    "train_data['weekday']=train_data['datetime'].dt.dayofweek\n",
    "test_data['weekday']=test_data['datetime'].dt.dayofweek"
   ]
  },
  {
   "cell_type": "code",
   "execution_count": 16,
   "metadata": {
    "collapsed": false
   },
   "outputs": [],
   "source": [
    "del train_data['incident_location']\n",
    "del test_data['incident_location']"
   ]
  },
  {
   "cell_type": "markdown",
   "metadata": {},
   "source": [
    "### Encoding of categorical variables"
   ]
  },
  {
   "cell_type": "code",
   "execution_count": 17,
   "metadata": {
    "collapsed": false
   },
   "outputs": [
    {
     "data": {
      "text/plain": [
       "Index([u'victim_id', u'incident_tehsil', u'cause_of_emergency',\n",
       "       u'base_to_scene_distance', u'scene_to_hospital_distance',\n",
       "       u'roadway_feature', u'road_type', u'surrounding_area', u'criticality',\n",
       "       u'datetime', u'hour_of_accident', u'weekday'],\n",
       "      dtype='object')"
      ]
     },
     "execution_count": 17,
     "metadata": {},
     "output_type": "execute_result"
    }
   ],
   "source": [
    "train_data.columns"
   ]
  },
  {
   "cell_type": "code",
   "execution_count": 18,
   "metadata": {
    "collapsed": true
   },
   "outputs": [],
   "source": [
    "categorical_variables=[x for x in train_data.columns if train_data[x].dtypes=='O' and x not in ['victim_id','datetime']]"
   ]
  },
  {
   "cell_type": "code",
   "execution_count": 19,
   "metadata": {
    "collapsed": false
   },
   "outputs": [
    {
     "data": {
      "text/plain": [
       "['incident_tehsil',\n",
       " 'cause_of_emergency',\n",
       " 'roadway_feature',\n",
       " 'road_type',\n",
       " 'surrounding_area']"
      ]
     },
     "execution_count": 19,
     "metadata": {},
     "output_type": "execute_result"
    }
   ],
   "source": [
    "categorical_variables"
   ]
  },
  {
   "cell_type": "code",
   "execution_count": 20,
   "metadata": {
    "collapsed": true
   },
   "outputs": [],
   "source": [
    "from sklearn.preprocessing import LabelEncoder"
   ]
  },
  {
   "cell_type": "code",
   "execution_count": 21,
   "metadata": {
    "collapsed": true
   },
   "outputs": [],
   "source": [
    "from collections import defaultdict\n",
    "d = defaultdict(LabelEncoder)"
   ]
  },
  {
   "cell_type": "code",
   "execution_count": 22,
   "metadata": {
    "collapsed": true
   },
   "outputs": [],
   "source": [
    "encoded_train_data=pd.DataFrame(data=train_data,copy=True)"
   ]
  },
  {
   "cell_type": "code",
   "execution_count": 23,
   "metadata": {
    "collapsed": true
   },
   "outputs": [],
   "source": [
    "encoded_test_data=pd.DataFrame(data=test_data,copy=True)"
   ]
  },
  {
   "cell_type": "code",
   "execution_count": 24,
   "metadata": {
    "collapsed": true
   },
   "outputs": [],
   "source": [
    "encoded_train_data[categorical_variables] =encoded_train_data[categorical_variables].apply(lambda x: d[x.name].fit_transform(x))\n",
    "encoded_test_data[categorical_variables] =encoded_test_data[categorical_variables].apply(lambda x: d[x.name].transform(x))"
   ]
  },
  {
   "cell_type": "code",
   "execution_count": 25,
   "metadata": {
    "collapsed": false
   },
   "outputs": [
    {
     "data": {
      "text/html": [
       "<div>\n",
       "<table border=\"1\" class=\"dataframe\">\n",
       "  <thead>\n",
       "    <tr style=\"text-align: right;\">\n",
       "      <th></th>\n",
       "      <th>victim_id</th>\n",
       "      <th>incident_tehsil</th>\n",
       "      <th>cause_of_emergency</th>\n",
       "      <th>base_to_scene_distance</th>\n",
       "      <th>scene_to_hospital_distance</th>\n",
       "      <th>roadway_feature</th>\n",
       "      <th>road_type</th>\n",
       "      <th>surrounding_area</th>\n",
       "      <th>criticality</th>\n",
       "      <th>datetime</th>\n",
       "      <th>hour_of_accident</th>\n",
       "      <th>weekday</th>\n",
       "    </tr>\n",
       "  </thead>\n",
       "  <tbody>\n",
       "    <tr>\n",
       "      <th>11772</th>\n",
       "      <td>VIC20120001118366</td>\n",
       "      <td>4</td>\n",
       "      <td>9</td>\n",
       "      <td>4</td>\n",
       "      <td>3</td>\n",
       "      <td>0</td>\n",
       "      <td>0</td>\n",
       "      <td>3</td>\n",
       "      <td>0</td>\n",
       "      <td>2012-06-13 23:15:02</td>\n",
       "      <td>23</td>\n",
       "      <td>2</td>\n",
       "    </tr>\n",
       "    <tr>\n",
       "      <th>11773</th>\n",
       "      <td>VIC20110000320257</td>\n",
       "      <td>4</td>\n",
       "      <td>0</td>\n",
       "      <td>1</td>\n",
       "      <td>2</td>\n",
       "      <td>0</td>\n",
       "      <td>0</td>\n",
       "      <td>0</td>\n",
       "      <td>0</td>\n",
       "      <td>2011-03-03 00:15:02</td>\n",
       "      <td>0</td>\n",
       "      <td>3</td>\n",
       "    </tr>\n",
       "    <tr>\n",
       "      <th>11774</th>\n",
       "      <td>VIC20090001341524</td>\n",
       "      <td>5</td>\n",
       "      <td>0</td>\n",
       "      <td>25</td>\n",
       "      <td>22</td>\n",
       "      <td>1</td>\n",
       "      <td>0</td>\n",
       "      <td>4</td>\n",
       "      <td>0</td>\n",
       "      <td>2009-07-18 20:52:35</td>\n",
       "      <td>20</td>\n",
       "      <td>5</td>\n",
       "    </tr>\n",
       "    <tr>\n",
       "      <th>11775</th>\n",
       "      <td>VIC20140000744614</td>\n",
       "      <td>2</td>\n",
       "      <td>9</td>\n",
       "      <td>8</td>\n",
       "      <td>8</td>\n",
       "      <td>4</td>\n",
       "      <td>1</td>\n",
       "      <td>0</td>\n",
       "      <td>1</td>\n",
       "      <td>2014-06-23 06:51:15</td>\n",
       "      <td>6</td>\n",
       "      <td>0</td>\n",
       "    </tr>\n",
       "    <tr>\n",
       "      <th>11776</th>\n",
       "      <td>VIC20100000952321</td>\n",
       "      <td>4</td>\n",
       "      <td>13</td>\n",
       "      <td>8</td>\n",
       "      <td>3</td>\n",
       "      <td>1</td>\n",
       "      <td>0</td>\n",
       "      <td>5</td>\n",
       "      <td>0</td>\n",
       "      <td>2010-09-05 16:51:39</td>\n",
       "      <td>16</td>\n",
       "      <td>6</td>\n",
       "    </tr>\n",
       "  </tbody>\n",
       "</table>\n",
       "</div>"
      ],
      "text/plain": [
       "               victim_id  incident_tehsil  cause_of_emergency  \\\n",
       "11772  VIC20120001118366                4                   9   \n",
       "11773  VIC20110000320257                4                   0   \n",
       "11774  VIC20090001341524                5                   0   \n",
       "11775  VIC20140000744614                2                   9   \n",
       "11776  VIC20100000952321                4                  13   \n",
       "\n",
       "       base_to_scene_distance  scene_to_hospital_distance  roadway_feature  \\\n",
       "11772                       4                           3                0   \n",
       "11773                       1                           2                0   \n",
       "11774                      25                          22                1   \n",
       "11775                       8                           8                4   \n",
       "11776                       8                           3                1   \n",
       "\n",
       "       road_type  surrounding_area  criticality            datetime  \\\n",
       "11772          0                 3            0 2012-06-13 23:15:02   \n",
       "11773          0                 0            0 2011-03-03 00:15:02   \n",
       "11774          0                 4            0 2009-07-18 20:52:35   \n",
       "11775          1                 0            1 2014-06-23 06:51:15   \n",
       "11776          0                 5            0 2010-09-05 16:51:39   \n",
       "\n",
       "       hour_of_accident  weekday  \n",
       "11772                23        2  \n",
       "11773                 0        3  \n",
       "11774                20        5  \n",
       "11775                 6        0  \n",
       "11776                16        6  "
      ]
     },
     "execution_count": 25,
     "metadata": {},
     "output_type": "execute_result"
    }
   ],
   "source": [
    "encoded_train_data.tail()"
   ]
  },
  {
   "cell_type": "code",
   "execution_count": 26,
   "metadata": {
    "collapsed": true
   },
   "outputs": [],
   "source": [
    "independent_variables=[x for x in train_data.columns if x not in ['victim_id','datetime','criticality']]"
   ]
  },
  {
   "cell_type": "markdown",
   "metadata": {},
   "source": [
    "## Model fitting"
   ]
  },
  {
   "cell_type": "code",
   "execution_count": 27,
   "metadata": {
    "collapsed": true
   },
   "outputs": [],
   "source": [
    "from sklearn.model_selection import train_test_split"
   ]
  },
  {
   "cell_type": "code",
   "execution_count": 28,
   "metadata": {
    "collapsed": true
   },
   "outputs": [],
   "source": [
    "X_train, X_test, y_train, y_test = train_test_split(encoded_train_data[independent_variables], encoded_train_data['criticality'], test_size=0.33, random_state = 0)"
   ]
  },
  {
   "cell_type": "code",
   "execution_count": 29,
   "metadata": {
    "collapsed": true
   },
   "outputs": [],
   "source": [
    "from sklearn.model_selection import cross_val_score"
   ]
  },
  {
   "cell_type": "code",
   "execution_count": 30,
   "metadata": {
    "collapsed": true
   },
   "outputs": [],
   "source": [
    "from sklearn.metrics import roc_auc_score"
   ]
  },
  {
   "cell_type": "code",
   "execution_count": 31,
   "metadata": {
    "collapsed": true
   },
   "outputs": [],
   "source": [
    "def scorer(estimator,X,y):\n",
    "    y1=np.array(estimator.predict(X))\n",
    "    score=roc_auc_score(y,y1)\n",
    "    return score"
   ]
  },
  {
   "cell_type": "markdown",
   "metadata": {},
   "source": [
    "### RandomForest Classifier"
   ]
  },
  {
   "cell_type": "code",
   "execution_count": 32,
   "metadata": {
    "collapsed": true
   },
   "outputs": [],
   "source": [
    "from sklearn.ensemble import RandomForestClassifier"
   ]
  },
  {
   "cell_type": "code",
   "execution_count": 33,
   "metadata": {
    "collapsed": true
   },
   "outputs": [],
   "source": [
    "depths=[3,5,7,9]\n",
    "n_estimators=[10,20,30,40]\n",
    "temp_score=0"
   ]
  },
  {
   "cell_type": "code",
   "execution_count": 34,
   "metadata": {
    "collapsed": false
   },
   "outputs": [
    {
     "name": "stdout",
     "output_type": "stream",
     "text": [
      "maximum score obtained is 0.508271532564.It is obtained at n_estmators=10 and max_depth=7\n"
     ]
    }
   ],
   "source": [
    "for depth in depths:\n",
    "    for n in n_estimators:\n",
    "        rfm=RandomForestClassifier(max_depth=depth,n_estimators=n,random_state=0)\n",
    "        a=cross_val_score(rfm,X_train,y_train,scoring=scorer,cv=5).mean()\n",
    "        if a>temp_score:\n",
    "            temp_score=a\n",
    "            depth_1=depth\n",
    "            n_1=n\n",
    "            \n",
    "print('maximum score obtained is '+str(temp_score)+'.It is obtained at n_estmators='+str(n_1)+' and max_depth='+str(depth_1))"
   ]
  },
  {
   "cell_type": "code",
   "execution_count": 35,
   "metadata": {
    "collapsed": false
   },
   "outputs": [
    {
     "data": {
      "text/plain": [
       "array([ 0.50702203,  0.50669113,  0.5137125 ,  0.50746269,  0.50646931])"
      ]
     },
     "execution_count": 35,
     "metadata": {},
     "output_type": "execute_result"
    }
   ],
   "source": [
    "rfm=RandomForestClassifier(max_depth=7,n_estimators=10,random_state=0)\n",
    "cross_val_score(rfm,X_train,y_train,scoring=scorer,cv=5)"
   ]
  },
  {
   "cell_type": "code",
   "execution_count": 36,
   "metadata": {
    "collapsed": false
   },
   "outputs": [
    {
     "data": {
      "text/plain": [
       "0.50231231433972456"
      ]
     },
     "execution_count": 36,
     "metadata": {},
     "output_type": "execute_result"
    }
   ],
   "source": [
    "rfm.fit(X_train,y_train)\n",
    "scorer(rfm,X_test,y_test)"
   ]
  },
  {
   "cell_type": "markdown",
   "metadata": {},
   "source": [
    "### Adaptive boosting"
   ]
  },
  {
   "cell_type": "code",
   "execution_count": 37,
   "metadata": {
    "collapsed": true
   },
   "outputs": [],
   "source": [
    "from sklearn.ensemble import AdaBoostClassifier"
   ]
  },
  {
   "cell_type": "code",
   "execution_count": 38,
   "metadata": {
    "collapsed": false
   },
   "outputs": [
    {
     "name": "stdout",
     "output_type": "stream",
     "text": [
      "Maximum score(accuracy) obtained is:0.68138\n",
      "It is obtained at learning rate=2 and n_estimators=50\n"
     ]
    }
   ],
   "source": [
    "learning_rates=[0.01,0.1,1,2,5,10]\n",
    "n_estimators=[50,100,150]\n",
    "temp_score=0\n",
    "scores=[]\n",
    "for n in n_estimators:\n",
    "    for lr in learning_rates:\n",
    "        adam=AdaBoostClassifier(learning_rate=lr,n_estimators=n,random_state=0)\n",
    "        score=(float('%0.5f'%(cross_val_score(adam,X_train,y_train,scoring=scorer,cv=5).mean())))\n",
    "        scores.append(score)\n",
    "        if score>temp_score:\n",
    "            temp_score=score\n",
    "            lr_1=lr\n",
    "            n_1=n\n",
    "    \n",
    "print(\"Maximum score(accuracy) obtained is:\"+str(temp_score))\n",
    "print(\"It is obtained at learning rate=\"+str(lr_1)+\" and n_estimators=\"+str(n_1))"
   ]
  },
  {
   "cell_type": "code",
   "execution_count": 47,
   "metadata": {
    "collapsed": true
   },
   "outputs": [],
   "source": [
    "cross_val_score?\n"
   ]
  },
  {
   "cell_type": "code",
   "execution_count": 39,
   "metadata": {
    "collapsed": false
   },
   "outputs": [
    {
     "name": "stdout",
     "output_type": "stream",
     "text": [
      "Maximum score(accuracy) obtained is:0.68138\n",
      "It is obtained at learning rate=2 and n_estimators=48\n"
     ]
    }
   ],
   "source": [
    "learning_rates=[1,2,3,5,10]\n",
    "n_estimators=[48,50,52]\n",
    "temp_score=0\n",
    "scores=[]\n",
    "for n in n_estimators:\n",
    "    for lr in learning_rates:\n",
    "        adam=AdaBoostClassifier(learning_rate=lr,n_estimators=n,random_state=0)\n",
    "        score=(float('%0.5f'%(cross_val_score(adam,X_train,y_train,scoring=scorer,cv=5).mean())))\n",
    "        scores.append(score)\n",
    "        if score>temp_score:\n",
    "            temp_score=score\n",
    "            lr_1=lr\n",
    "            n_1=n\n",
    "    \n",
    "print(\"Maximum score(accuracy) obtained is:\"+str(temp_score))\n",
    "print(\"It is obtained at learning rate=\"+str(lr_1)+\" and n_estimators=\"+str(n_1))"
   ]
  },
  {
   "cell_type": "code",
   "execution_count": 40,
   "metadata": {
    "collapsed": false
   },
   "outputs": [
    {
     "name": "stdout",
     "output_type": "stream",
     "text": [
      "Maximum score(accuracy) obtained is:0.68138\n",
      "It is obtained at learning rate=2 and n_estimators=48\n"
     ]
    }
   ],
   "source": [
    "learning_rates=[1.5,2,2.2,2.4,2.8]\n",
    "n_estimators=[47,48,50]\n",
    "temp_score=0\n",
    "scores=[]\n",
    "for n in n_estimators:\n",
    "    for lr in learning_rates:\n",
    "        adam=AdaBoostClassifier(learning_rate=lr,n_estimators=n,random_state=0)\n",
    "        score=(float('%0.5f'%(cross_val_score(adam,X_train,y_train,scoring=scorer,cv=5).mean())))\n",
    "        scores.append(score)\n",
    "        if score>temp_score:\n",
    "            temp_score=score\n",
    "            lr_1=lr\n",
    "            n_1=n\n",
    "    \n",
    "print(\"Maximum score(accuracy) obtained is:\"+str(temp_score))\n",
    "print(\"It is obtained at learning rate=\"+str(lr_1)+\" and n_estimators=\"+str(n_1))"
   ]
  },
  {
   "cell_type": "code",
   "execution_count": 41,
   "metadata": {
    "collapsed": false
   },
   "outputs": [
    {
     "data": {
      "text/plain": [
       "0.66069740750742634"
      ]
     },
     "execution_count": 41,
     "metadata": {},
     "output_type": "execute_result"
    }
   ],
   "source": [
    "adam=AdaBoostClassifier(learning_rate=2,n_estimators=48,random_state=0)\n",
    "adam.fit(X_train,y_train)\n",
    "scorer(adam,X_test,y_test)"
   ]
  },
  {
   "cell_type": "code",
   "execution_count": 42,
   "metadata": {
    "collapsed": false
   },
   "outputs": [
    {
     "data": {
      "image/png": "[encoded data removed]",
      "text/plain": [
       "<matplotlib.figure.Figure at 0xe2999b0>"
      ]
     },
     "metadata": {},
     "output_type": "display_data"
    }
   ],
   "source": [
    "#feature importances using random forest model\n",
    "importances=rfm.feature_importances_\n",
    "std = np.std([rfm.feature_importances_ for tree in rfm.estimators_],\n",
    "             axis=0)\n",
    "indices = np.argsort(importances)[::-1]\n",
    "sorted_important_features=[]\n",
    "predictors=X_train.columns\n",
    "for i in indices:\n",
    "    sorted_important_features.append(predictors[i])\n",
    "\n",
    "plt.figure()\n",
    "plt.title(\"Feature Importances By Random Forest Model\")\n",
    "plt.bar(range(np.size(predictors)), importances[indices],\n",
    "        yerr=std[indices], align=\"center\")\n",
    "plt.xticks(range(np.size(predictors)), sorted_important_features, rotation='vertical')\n",
    "\n",
    "plt.xlim([-1, np.size(predictors)]);"
   ]
  },
  {
   "cell_type": "markdown",
   "metadata": {},
   "source": [
    "### Predictions for test data"
   ]
  },
  {
   "cell_type": "code",
   "execution_count": 43,
   "metadata": {
    "collapsed": false
   },
   "outputs": [
    {
     "data": {
      "text/plain": [
       "AdaBoostClassifier(algorithm='SAMME.R', base_estimator=None, learning_rate=2,\n",
       "          n_estimators=48, random_state=0)"
      ]
     },
     "execution_count": 43,
     "metadata": {},
     "output_type": "execute_result"
    }
   ],
   "source": [
    "adam.fit(encoded_train_data[independent_variables],encoded_train_data['criticality'])"
   ]
  },
  {
   "cell_type": "code",
   "execution_count": 44,
   "metadata": {
    "collapsed": true
   },
   "outputs": [],
   "source": [
    "test_predictions=adam.predict(encoded_test_data[independent_variables])"
   ]
  },
  {
   "cell_type": "code",
   "execution_count": 45,
   "metadata": {
    "collapsed": true
   },
   "outputs": [],
   "source": [
    "victim_id=test_data['victim_id']"
   ]
  },
  {
   "cell_type": "code",
   "execution_count": 46,
   "metadata": {
    "collapsed": true
   },
   "outputs": [],
   "source": [
    "submission=pd.DataFrame({\n",
    "    'victim_id':victim_id,\n",
    "    'criticality': test_predictions\n",
    "})\n",
    "submission.to_csv('dataquest_submission1.csv', index=False)"
   ]
  },
  {
   "cell_type": "code",
   "execution_count": null,
   "metadata": {
    "collapsed": true
   },
   "outputs": [],
   "source": []
  }
 ],
 "metadata": {
  "kernelspec": {
   "display_name": "Python 2",
   "language": "python",
   "name": "python2"
  },
  "language_info": {
   "codemirror_mode": {
    "name": "ipython",
    "version": 2
   },
   "file_extension": ".py",
   "mimetype": "text/x-python",
   "name": "python",
   "nbconvert_exporter": "python",
   "pygments_lexer": "ipython2",
   "version": "2.7.13"
  }
 },
 "nbformat": 4,
 "nbformat_minor": 2
}
